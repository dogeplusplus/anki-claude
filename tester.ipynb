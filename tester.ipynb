{
 "cells": [
  {
   "cell_type": "code",
   "execution_count": 1,
   "metadata": {},
   "outputs": [],
   "source": [
    "import random\n",
    "\n",
    "from anki_deck import create_deck\n",
    "from database import DatabaseConnector\n",
    "from cards import Card, Deck, SIDE, FRONT, BACK, CARD_ID\n",
    "\n",
    "connector = DatabaseConnector(\"sqlite:///anki.db\")\n",
    "\n",
    "\n",
    "def create_deck_and_add_to_db(topic, num_cards):\n",
    "    deck = create_deck(topic, num_cards)\n",
    "    connector.create_deck(deck.name)\n",
    "    for card in deck.cards:\n",
    "        connector.create_card(deck.name, card.front, card.back)\n",
    "    print(f\"{topic} deck created with {num_cards} cards\")\n",
    "    return deck"
   ]
  },
  {
   "cell_type": "code",
   "execution_count": 2,
   "metadata": {},
   "outputs": [
    {
     "name": "stdout",
     "output_type": "stream",
     "text": [
      "english deck created with 3 cards\n"
     ]
    }
   ],
   "source": [
    "deck1 = create_deck_and_add_to_db(\"english\", 3)"
   ]
  },
  {
   "cell_type": "code",
   "execution_count": 3,
   "metadata": {},
   "outputs": [
    {
     "data": {
      "text/plain": [
       "Deck(name='Self-driving cars', cards=[AnkiCard(front='What subfield of AI focuses on enabling computers to see, identify and process images and videos in a human-like way?', back='Computer vision'), AnkiCard(front='What machine learning algorithm can be used for classification and regression problems?', back='Random forest'), AnkiCard(front='What refers to translating an app into multiple languages to reach a global audience?', back='Localization')])"
      ]
     },
     "execution_count": 3,
     "metadata": {},
     "output_type": "execute_result"
    }
   ],
   "source": []
  },
  {
   "cell_type": "code",
   "execution_count": null,
   "metadata": {},
   "outputs": [],
   "source": []
  }
 ],
 "metadata": {
  "kernelspec": {
   "display_name": "Python 3",
   "language": "python",
   "name": "python3"
  },
  "language_info": {
   "codemirror_mode": {
    "name": "ipython",
    "version": 3
   },
   "file_extension": ".py",
   "mimetype": "text/x-python",
   "name": "python",
   "nbconvert_exporter": "python",
   "pygments_lexer": "ipython3",
   "version": "3.11.3"
  }
 },
 "nbformat": 4,
 "nbformat_minor": 2
}
