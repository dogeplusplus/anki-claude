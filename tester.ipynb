{
 "cells": [
  {
   "cell_type": "code",
   "execution_count": 11,
   "metadata": {},
   "outputs": [],
   "source": [
    "import random\n",
    "\n",
    "from anki_deck import create_deck, answer_eval\n",
    "from database import DatabaseConnector\n",
    "from cards import Card, Deck, SIDE, FRONT, BACK, CARD_ID\n",
    "\n",
    "connector = DatabaseConnector(\"sqlite:///anki.db\")\n",
    "\n",
    "\n",
    "def create_deck_and_add_to_db(topic, num_cards):\n",
    "    deck = create_deck(topic, num_cards)\n",
    "    connector.create_deck(deck.name)\n",
    "    for card in deck.cards:\n",
    "        connector.create_card(deck.name, card.front, card.back)\n",
    "    print(f\"{topic} deck created with {num_cards} cards\")\n",
    "    return deck\n",
    "\n",
    "\n",
    "def ask_questions_and_eval(deck_name):\n",
    "    cards = connector.get_cards(deck_name)\n",
    "    shuffled_cards = random.sample(cards, len(cards))\n",
    "    answers = []\n",
    "    for i, card in enumerate(shuffled_cards):\n",
    "        print(f\"{i}: {card.front}\")\n",
    "        answers.append(input(\"What's the answer?\"))\n",
    "        print(f\"Your response: {answers[-1]}\")\n",
    "        print(f\"Model answer: {card.back}\\n\")\n",
    "\n",
    "    print(\"Done collecting answers. Here's how you did:\")\n",
    "    for i, card in enumerate(shuffled_cards):\n",
    "        print(answer_eval(card.front, card.back, answers[i]), \"\\n\")\n",
    "\n",
    "\n",
    "DECK_NAME = \"dispersive partial differential equations\""
   ]
  },
  {
   "cell_type": "code",
   "execution_count": 31,
   "metadata": {},
   "outputs": [
    {
     "name": "stdout",
     "output_type": "stream",
     "text": [
      "dispersive partial differential equations deck created with 5 cards\n"
     ]
    }
   ],
   "source": [
    "# create_deck_and_add_to_db(DECK_NAME, 5)"
   ]
  },
  {
   "cell_type": "code",
   "execution_count": 28,
   "metadata": {},
   "outputs": [
    {
     "data": {
      "text/plain": [
       "['Travel',\n",
       " 'Cooking',\n",
       " 'Self-driving cars',\n",
       " 'dispersive partial differential equations']"
      ]
     },
     "execution_count": 28,
     "metadata": {},
     "output_type": "execute_result"
    }
   ],
   "source": [
    "connector.get_decks()"
   ]
  },
  {
   "cell_type": "code",
   "execution_count": 32,
   "metadata": {},
   "outputs": [
    {
     "data": {
      "text/plain": [
       "[Card(front=What is the Korteweg-de Vries equation used to describe?, back=The Korteweg-de Vries equation is a nonlinear partial differential equation that describes the propagation of long wavelength, shallow water waves, such as those on the surface of canals and rivers.),\n",
       " Card(front=What is the nonlinear Schrödinger equation used for?, back=The nonlinear Schrödinger equation describes the propagation of light in nonlinear optical fibers and planar waveguides.),\n",
       " Card(front=What PDE describes nonlinear waves like solitons?, back=The Sine-Gordon equation),\n",
       " Card(front=What is the name of the class of nonlinear partial differential equations that generalize the Korteweg–de Vries equation?, back=Generalized KdV equations),\n",
       " Card(front=What are dispersive shock waves?, back=Dispersive shock waves are nonlinear waves that arise from the interplay between nonlinear effects and dispersion in a medium.)]"
      ]
     },
     "execution_count": 32,
     "metadata": {},
     "output_type": "execute_result"
    }
   ],
   "source": [
    "connector.get_cards(DECK_NAME)"
   ]
  },
  {
   "cell_type": "code",
   "execution_count": 10,
   "metadata": {},
   "outputs": [
    {
     "name": "stdout",
     "output_type": "stream",
     "text": [
      "0. Here's the front: What is the name of the class of nonlinear partial differential equations that generalize the Korteweg–de Vries equation?\n",
      "Your answer: generalised KdV\n",
      "Here's the back: Generalized KdV equations\n",
      "\n",
      "1. Here's the front: What is the Korteweg-de Vries equation used to describe?\n",
      "Your answer: shallow waves\n",
      "Here's the back: The Korteweg-de Vries equation is a nonlinear partial differential equation that describes the propagation of long wavelength, shallow water waves, such as those on the surface of canals and rivers.\n",
      "\n",
      "2. Here's the front: What are dispersive shock waves?\n",
      "Your answer: not sure\n",
      "Here's the back: Dispersive shock waves are nonlinear waves that arise from the interplay between nonlinear effects and dispersion in a medium.\n",
      "\n",
      "3. Here's the front: What PDE describes nonlinear waves like solitons?\n",
      "Your answer: really dont know, go away\n",
      "Here's the back: The Sine-Gordon equation\n",
      "\n",
      "4. Here's the front: What is the nonlinear Schrödinger equation used for?\n",
      "Your answer: nonlinear quantum mechanics\n",
      "Here's the back: The nonlinear Schrödinger equation describes the propagation of light in nonlinear optical fibers and planar waveguides.\n",
      "\n",
      "Done collecting answers. Here's how you did:\n",
      "score=3 explanation=\"The student's answer 'generalised KdV' is mostly correct but missing the word 'equations' from the back of the card 'Generalized KdV equations'. They identified the key concept of 'generalized KdV' which shows good understanding of the material. I would suggest adding the missing word 'equations' to make the answer fully match the back of the card. Overall a good attempt with just a minor detail missing.\"\n",
      "score=2 explanation=\"The student's answer of 'shallow waves' captures the key idea from the back of the card that the Korteweg-de Vries equation describes shallow water waves. However, it lacks the other relevant details provided in the full answer - that it describes the propagation of long wavelength waves specifically, and that it applies to waves on the surface of canals and rivers. The student demonstrated partial understanding, so I would give their answer a score of 2 out of 4.\"\n",
      "score=1 explanation=\"The student said 'not sure', which indicates they did not know the answer to the question. To improve, they should review the material on dispersive shock waves and make sure they understand the definition.\"\n",
      "score=1 explanation='The student did not attempt to answer the question and asked to be left alone. This indicates they likely did not know the answer and made no effort to reason through it or make an educated guess. To improve, the student should make an effort to come up with their best guess for the answer based on clues in the question, and identify areas they are unsure about to study further.'\n",
      "score=2 explanation=\"The student's answer touches on an application of the nonlinear Schrödinger equation, but does not fully address the specifics asked in the question. The question asks what the nonlinear Schrödinger equation is used for, and the back of the card provides the specific example of describing light propagation in optical fibers. While the nonlinear Schrödinger equation does have applications in quantum mechanics, the student's brief answer 'nonlinear quantum mechanics' does not demonstrate a full understanding of the context of the question and the provided answer on the back of the card. To improve, the student should provide more detail connecting the nonlinear Schrödinger equation to the specific context of optical fibers and waveguides.\"\n"
     ]
    }
   ],
   "source": [
    "ask_questions_and_eval(\"dispersive partial differential equations\")"
   ]
  },
  {
   "cell_type": "code",
   "execution_count": null,
   "metadata": {},
   "outputs": [],
   "source": []
  },
  {
   "cell_type": "code",
   "execution_count": null,
   "metadata": {},
   "outputs": [],
   "source": []
  }
 ],
 "metadata": {
  "kernelspec": {
   "display_name": "Python 3",
   "language": "python",
   "name": "python3"
  },
  "language_info": {
   "codemirror_mode": {
    "name": "ipython",
    "version": 3
   },
   "file_extension": ".py",
   "mimetype": "text/x-python",
   "name": "python",
   "nbconvert_exporter": "python",
   "pygments_lexer": "ipython3",
   "version": "3.11.3"
  }
 },
 "nbformat": 4,
 "nbformat_minor": 2
}
